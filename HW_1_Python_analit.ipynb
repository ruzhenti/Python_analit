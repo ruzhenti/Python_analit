{
 "cells": [
  {
   "cell_type": "markdown",
   "id": "17fa17d1",
   "metadata": {},
   "source": [
    "## Урок 1\n",
    "\n",
    "### Условие 1\n",
    "\n",
    "### Условие 2"
   ]
  },
  {
   "cell_type": "code",
   "execution_count": 1,
   "id": "7e551506",
   "metadata": {},
   "outputs": [],
   "source": [
    "## На складе лежат разные фрукты в разном количестве.\n",
    "## Нужно написать функцию, которая на вход принимает любое количество названий фруктов и их количество,\n",
    "## а возвращает общее количество фруктов на складе, при помощи использования kwargs"
   ]
  },
  {
   "cell_type": "code",
   "execution_count": 2,
   "id": "cd8733fe",
   "metadata": {},
   "outputs": [
    {
     "data": {
      "text/plain": [
       "50"
      ]
     },
     "execution_count": 2,
     "metadata": {},
     "output_type": "execute_result"
    }
   ],
   "source": [
    "def total_fruits(**fruits):\n",
    "    total = 0\n",
    "    for amount in fruits.values():\n",
    "        total += amount\n",
    "    return total\n",
    "total_fruits(apple=24,mango=5,avocado=7,pear=14)    "
   ]
  },
  {
   "cell_type": "markdown",
   "id": "88cfa30f",
   "metadata": {},
   "source": [
    "### Условие 3"
   ]
  },
  {
   "cell_type": "code",
   "execution_count": 3,
   "id": "17a4a611",
   "metadata": {},
   "outputs": [],
   "source": [
    "## Дан список с затратами на рекламу. Но в данных есть ошибки, некоторые затраты имеют отрицательную величину. \n",
    "## Удалите такие значения из списка и посчитайте суммарные затраты\n",
    "## [100, 125, -90, 345, 655, -1, 0, 200]\n",
    "## Используйте list comprehensions"
   ]
  },
  {
   "cell_type": "code",
   "execution_count": 4,
   "id": "1ed20db6",
   "metadata": {},
   "outputs": [
    {
     "data": {
      "text/plain": [
       "1425"
      ]
     },
     "execution_count": 4,
     "metadata": {},
     "output_type": "execute_result"
    }
   ],
   "source": [
    "market=[100, 125, -90, 345, 655, -1, 0, 200]\n",
    "sum([i for i in market if i>0])"
   ]
  },
  {
   "cell_type": "markdown",
   "id": "b69d182e",
   "metadata": {},
   "source": [
    "### Условие 4"
   ]
  },
  {
   "cell_type": "code",
   "execution_count": 3,
   "id": "1fb668dc",
   "metadata": {},
   "outputs": [],
   "source": [
    "## Даны два списка.\n",
    "## Дата покупки\n",
    "## ['2021-09-14', '2021-12-15', '2021-09-08', '2021-12-05', '2021-10-09', '2021-09-30', '2021-12-22', \n",
    "## '2021-11-29', '2021-12-24', '2021-11-26', '2021-10-27', '2021-12-18', '2021-11-09', '2021-11-23',\n",
    "##'2021-09-27', '2021-10-02', '2021-12-27', '2021-09-20', '2021-12-13', '2021-11-01', '2021-11-09', \n",
    "## '2021-12-06', '2021-12-08', '2021-10-09', '2021-10-31', '2021-09-30', '2021-11-09', '2021-12-13',\n",
    "## '2021-10-26', '2021-12-09']\n",
    "## Суммы покупок по датам\n",
    "##[1270, 8413, 9028, 3703, 5739, 4095, 295, 4944, 5723, 3701, 4471, 651, 7037, 4274, 6275, 4988,\n",
    "## 6930, 2971, 6592, 2004, 2822, 519, 3406, 2732, 5015, 2008, 316, 6333, 5700, 2887]"
   ]
  },
  {
   "cell_type": "markdown",
   "id": "3a3a9145",
   "metadata": {},
   "source": [
    "#### Условие 4.1"
   ]
  },
  {
   "cell_type": "code",
   "execution_count": 6,
   "id": "9cadb9bc",
   "metadata": {},
   "outputs": [],
   "source": [
    "## Найдите, какая выручка у компании в ноябре\n",
    "## Используйте list comprehensions"
   ]
  },
  {
   "cell_type": "code",
   "execution_count": 7,
   "id": "8a65b745",
   "metadata": {},
   "outputs": [],
   "source": [
    "dates = ['2021-09-14', '2021-12-15', '2021-09-08', '2021-12-05', '2021-10-09', '2021-09-30', '2021-12-22', \n",
    " '2021-11-29', '2021-12-24', '2021-11-26', '2021-10-27', '2021-12-18', '2021-11-09', '2021-11-23',\n",
    " '2021-09-27', '2021-10-02', '2021-12-27', '2021-09-20', '2021-12-13', '2021-11-01', '2021-11-09', \n",
    " '2021-12-06', '2021-12-08', '2021-10-09', '2021-10-31', '2021-09-30', '2021-11-09', '2021-12-13',\n",
    " '2021-10-26', '2021-12-09']\n",
    "revenue = [1270, 8413, 9028, 3703, 5739, 4095, 295, 4944, 5723, 3701, 4471, 651, 7037, 4274, 6275, 4988,\n",
    " 6930, 2971, 6592, 2004, 2822, 519, 3406, 2732, 5015, 2008, 316, 6333, 5700, 2887]"
   ]
  },
  {
   "cell_type": "code",
   "execution_count": 8,
   "id": "2a7d307b",
   "metadata": {},
   "outputs": [
    {
     "data": {
      "text/plain": [
       "25098"
      ]
     },
     "execution_count": 8,
     "metadata": {},
     "output_type": "execute_result"
    }
   ],
   "source": [
    "sum([revenue[i] for i in range(len(dates)) if dates[i].split(\"-\")[1] == \"11\"])"
   ]
  },
  {
   "cell_type": "markdown",
   "id": "51a4cdce",
   "metadata": {},
   "source": [
    "#### Условие 4.2"
   ]
  },
  {
   "cell_type": "code",
   "execution_count": 9,
   "id": "07f36298",
   "metadata": {},
   "outputs": [],
   "source": [
    "## Найдите выручку компании в зависимости от месяца \n",
    "## Для этого напишите функцию, которая на вход принимает список с датами и список с выручкой, а на выходе словарь,\n",
    "## где ключи - это месяцы, а значения - это выручка.\n",
    "## Используйте аннотирование типов"
   ]
  },
  {
   "cell_type": "code",
   "execution_count": 5,
   "id": "275b444f",
   "metadata": {},
   "outputs": [
    {
     "data": {
      "text/plain": [
       "{'09': 25647, '12': 45452, '10': 28645, '11': 25098}"
      ]
     },
     "execution_count": 5,
     "metadata": {},
     "output_type": "execute_result"
    }
   ],
   "source": [
    "dates = ['2021-09-14', '2021-12-15', '2021-09-08', '2021-12-05', '2021-10-09', '2021-09-30', '2021-12-22', \n",
    " '2021-11-29', '2021-12-24', '2021-11-26', '2021-10-27', '2021-12-18', '2021-11-09', '2021-11-23',\n",
    " '2021-09-27', '2021-10-02', '2021-12-27', '2021-09-20', '2021-12-13', '2021-11-01', '2021-11-09', \n",
    " '2021-12-06', '2021-12-08', '2021-10-09', '2021-10-31', '2021-09-30', '2021-11-09', '2021-12-13',\n",
    " '2021-10-26', '2021-12-09']\n",
    "revenue = [1270, 8413, 9028, 3703, 5739, 4095, 295, 4944, 5723, 3701, 4471, 651, 7037, 4274, 6275, 4988,\n",
    " 6930, 2971, 6592, 2004, 2822, 519, 3406, 2732, 5015, 2008, 316, 6333, 5700, 2887]\n",
    "\n",
    "def calc_revenue_for_month (dates: list, revenue: list)->dict:\n",
    "    revenue_for_month = {}\n",
    "    \n",
    "    for i in range(len(dates)):\n",
    "        month = dates[i].split(\"-\")[1]\n",
    "        if month in revenue_for_month.keys():\n",
    "            revenue_for_month[month]+= revenue[i]            \n",
    "        else:\n",
    "            revenue_for_month[month] = revenue[i]\n",
    "    return revenue_for_month\n",
    "\n",
    "calc_revenue_for_month (dates, revenue)"
   ]
  },
  {
   "cell_type": "code",
   "execution_count": null,
   "id": "355c49b4",
   "metadata": {},
   "outputs": [],
   "source": []
  }
 ],
 "metadata": {
  "kernelspec": {
   "display_name": "Python 3 (ipykernel)",
   "language": "python",
   "name": "python3"
  },
  "language_info": {
   "codemirror_mode": {
    "name": "ipython",
    "version": 3
   },
   "file_extension": ".py",
   "mimetype": "text/x-python",
   "name": "python",
   "nbconvert_exporter": "python",
   "pygments_lexer": "ipython3",
   "version": "3.9.13"
  }
 },
 "nbformat": 4,
 "nbformat_minor": 5
}
